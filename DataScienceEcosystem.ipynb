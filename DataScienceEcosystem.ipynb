{
 "cells": [
  {
   "cell_type": "markdown",
   "id": "950af2bc-55c1-47fd-95a0-8987099f0af8",
   "metadata": {},
   "source": [
    "# Data Science Tools and Ecosystem"
   ]
  },
  {
   "cell_type": "markdown",
   "id": "3c432849-a4d4-4c28-8499-84b8faf908ed",
   "metadata": {},
   "source": [
    "In this notebook, Data Science Tools and Ecosystem are summarized."
   ]
  },
  {
   "cell_type": "markdown",
   "id": "fff38cef-a96c-49ac-8d45-d190a28b4321",
   "metadata": {},
   "source": [
    "# **Objectives:** \n",
    "# List popular languages for Data Science\n",
    "- Pyhton\n",
    "- R\n",
    "- SQL"
   ]
  },
  {
   "cell_type": "markdown",
   "id": "3ba64afe-d176-413d-9cc1-d1dbbd1be5ca",
   "metadata": {},
   "source": [
    "# Some of the popular languages that Data Scientists use are:\n",
    "1. Python\n",
    "2. R\n",
    "3. SQL\n",
    "4. Java"
   ]
  },
  {
   "cell_type": "markdown",
   "id": "ce9d189c-0068-47fb-a613-e4b298a8f4bd",
   "metadata": {},
   "source": [
    "# Some of the commonly used libraries used by Data Scientists include:\n",
    "1. Apache Hadoop\n",
    "2. Apache Hive\n",
    "3. Apache Pig\n",
    "4. Apache Mahout"
   ]
  },
  {
   "cell_type": "markdown",
   "id": "8742e994-7143-484b-8666-75619aeb8e9a",
   "metadata": {},
   "source": [
    "## Data Science Tools\n",
    "\n",
    "| Data Science Tools | \n",
    "| -------------|\n",
    "| RStudio| \n",
    "| Apache Spark | \n",
    "| TensorFlow |"
   ]
  },
  {
   "cell_type": "markdown",
   "id": "acc3c9eb-342c-41a4-ab1e-f0e58b148c5a",
   "metadata": {},
   "source": [
    "###  Below are a few examples of evaluating arithmetic expressions in Python\n",
    "simple_arithimetic = (3*4)+5\n",
    "simple_arithimetic = (3-1)/1"
   ]
  },
  {
   "cell_type": "code",
   "execution_count": 4,
   "id": "f2fabed3-43b7-4697-8604-022e46e92480",
   "metadata": {},
   "outputs": [
    {
     "data": {
      "text/plain": [
       "17"
      ]
     },
     "execution_count": 4,
     "metadata": {},
     "output_type": "execute_result"
    }
   ],
   "source": [
    "# This a simple arithmetic expression to mutiply then add integers.\n",
    "simple_arithimetic = (3*4)+5\n",
    "simple_arithimetic"
   ]
  },
  {
   "cell_type": "code",
   "execution_count": 5,
   "id": "5d9d2e3b-4fd9-4a46-b6d2-25cfdd08ff56",
   "metadata": {},
   "outputs": [
    {
     "name": "stdout",
     "output_type": "stream",
     "text": [
      "3.3333333333333335 hours\n"
     ]
    }
   ],
   "source": [
    "# This will convert 200 minutes to hours by diving by 60.\n",
    "hours_to_minutes = 200/60\n",
    "print(f\"{hours_to_minutes} hours\")"
   ]
  },
  {
   "cell_type": "markdown",
   "id": "4479f46f-ff80-45d9-9b8d-50a359904708",
   "metadata": {},
   "source": [
    "## Author\n",
    "HY Carolyne Tso"
   ]
  }
 ],
 "metadata": {
  "kernelspec": {
   "display_name": "Python 3 (ipykernel)",
   "language": "python",
   "name": "python3"
  },
  "language_info": {
   "codemirror_mode": {
    "name": "ipython",
    "version": 3
   },
   "file_extension": ".py",
   "mimetype": "text/x-python",
   "name": "python",
   "nbconvert_exporter": "python",
   "pygments_lexer": "ipython3",
   "version": "3.11.7"
  }
 },
 "nbformat": 4,
 "nbformat_minor": 5
}
